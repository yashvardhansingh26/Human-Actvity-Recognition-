{
 "cells": [
  {
   "cell_type": "code",
   "execution_count": 1,
   "metadata": {},
   "outputs": [],
   "source": [
    "import numpy as np\n",
    "import pandas as pd\n",
    "import matplotlib.pyplot as plt\n",
    "\n",
    "from sklearn.preprocessing import LabelEncoder, MinMaxScaler\n",
    "\n",
    "import tensorflow as tf"
   ]
  },
  {
   "cell_type": "code",
   "execution_count": 2,
   "metadata": {},
   "outputs": [],
   "source": [
    "tf.random.set_seed(4445444)"
   ]
  },
  {
   "cell_type": "code",
   "execution_count": 3,
   "metadata": {},
   "outputs": [],
   "source": [
    "train_df = pd.read_csv('archive/train.csv')\n",
    "test_df = pd.read_csv('archive/test.csv')"
   ]
  },
  {
   "cell_type": "code",
   "execution_count": 4,
   "metadata": {},
   "outputs": [
    {
     "name": "stdout",
     "output_type": "stream",
     "text": [
      "<class 'pandas.core.frame.DataFrame'>\n",
      "RangeIndex: 7352 entries, 0 to 7351\n",
      "Columns: 563 entries, tBodyAcc-mean()-X to Activity\n",
      "dtypes: float64(561), int64(1), object(1)\n",
      "memory usage: 31.6+ MB\n"
     ]
    }
   ],
   "source": [
    "train_df.info()"
   ]
  },
  {
   "cell_type": "code",
   "execution_count": 5,
   "metadata": {},
   "outputs": [
    {
     "name": "stdout",
     "output_type": "stream",
     "text": [
      "<class 'pandas.core.frame.DataFrame'>\n",
      "RangeIndex: 2947 entries, 0 to 2946\n",
      "Columns: 563 entries, tBodyAcc-mean()-X to Activity\n",
      "dtypes: float64(561), int64(1), object(1)\n",
      "memory usage: 12.7+ MB\n"
     ]
    }
   ],
   "source": [
    "test_df.info()"
   ]
  },
  {
   "cell_type": "code",
   "execution_count": 6,
   "metadata": {},
   "outputs": [],
   "source": [
    "y_train = train_df['Activity'].copy()\n",
    "X_train = train_df.drop('Activity', axis=1).copy()\n",
    "\n",
    "y_test = test_df['Activity'].copy()\n",
    "X_test = test_df.drop('Activity', axis=1).copy()\n"
   ]
  },
  {
   "cell_type": "code",
   "execution_count": 7,
   "metadata": {},
   "outputs": [
    {
     "data": {
      "text/plain": [
       "LAYING                1407\n",
       "STANDING              1374\n",
       "SITTING               1286\n",
       "WALKING               1226\n",
       "WALKING_UPSTAIRS      1073\n",
       "WALKING_DOWNSTAIRS     986\n",
       "Name: Activity, dtype: int64"
      ]
     },
     "execution_count": 7,
     "metadata": {},
     "output_type": "execute_result"
    }
   ],
   "source": [
    "y_train.value_counts()"
   ]
  },
  {
   "cell_type": "code",
   "execution_count": 8,
   "metadata": {},
   "outputs": [],
   "source": [
    "num_classes = 6"
   ]
  },
  {
   "cell_type": "code",
   "execution_count": 9,
   "metadata": {},
   "outputs": [],
   "source": [
    "label_encoder = LabelEncoder()\n",
    "label_encoder.fit(y_train)\n",
    "\n",
    "y_train = label_encoder.transform(y_train)\n",
    "y_test = label_encoder.transform(y_test)"
   ]
  },
  {
   "cell_type": "code",
   "execution_count": 10,
   "metadata": {},
   "outputs": [],
   "source": [
    "scaler = MinMaxScaler()\n",
    "scaler.fit(X_train)\n",
    "\n",
    "X_train = scaler.transform(X_train)\n",
    "X_test = scaler.transform(X_test)"
   ]
  },
  {
   "cell_type": "code",
   "execution_count": 11,
   "metadata": {},
   "outputs": [],
   "source": [
    "inputs = tf.keras.Input(shape=(X_train.shape[1],))\n",
    "x = tf.keras.layers.Dense(64, activation='relu')(inputs)\n",
    "x = tf.keras.layers.Dense(64, activation='relu')(x)\n",
    "outputs = tf.keras.layers.Dense(num_classes, activation='softmax')(x)\n",
    "\n",
    "model = tf.keras.Model(inputs, outputs)"
   ]
  },
  {
   "cell_type": "code",
   "execution_count": 12,
   "metadata": {},
   "outputs": [
    {
     "name": "stdout",
     "output_type": "stream",
     "text": [
      "Model: \"functional_1\"\n",
      "_________________________________________________________________\n",
      "Layer (type)                 Output Shape              Param #   \n",
      "=================================================================\n",
      "input_1 (InputLayer)         [(None, 562)]             0         \n",
      "_________________________________________________________________\n",
      "dense (Dense)                (None, 64)                36032     \n",
      "_________________________________________________________________\n",
      "dense_1 (Dense)              (None, 64)                4160      \n",
      "_________________________________________________________________\n",
      "dense_2 (Dense)              (None, 6)                 390       \n",
      "=================================================================\n",
      "Total params: 40,582\n",
      "Trainable params: 40,582\n",
      "Non-trainable params: 0\n",
      "_________________________________________________________________\n"
     ]
    }
   ],
   "source": [
    "model.summary()"
   ]
  },
  {
   "cell_type": "code",
   "execution_count": 13,
   "metadata": {},
   "outputs": [
    {
     "name": "stdout",
     "output_type": "stream",
     "text": [
      "Epoch 1/25\n",
      "184/184 [==============================] - 1s 8ms/step - loss: 0.6150 - accuracy: 0.7900 - val_loss: 0.2937 - val_accuracy: 0.9218\n",
      "Epoch 2/25\n",
      "184/184 [==============================] - 1s 4ms/step - loss: 0.2392 - accuracy: 0.9104 - val_loss: 0.1926 - val_accuracy: 0.9205\n",
      "Epoch 3/25\n",
      "184/184 [==============================] - 1s 3ms/step - loss: 0.1636 - accuracy: 0.9383 - val_loss: 0.2388 - val_accuracy: 0.9137\n",
      "Epoch 4/25\n",
      "184/184 [==============================] - 1s 3ms/step - loss: 0.1160 - accuracy: 0.9631 - val_loss: 0.1599 - val_accuracy: 0.9388\n",
      "Epoch 5/25\n",
      "184/184 [==============================] - 1s 3ms/step - loss: 0.1104 - accuracy: 0.9638 - val_loss: 0.1496 - val_accuracy: 0.9388\n",
      "Epoch 6/25\n",
      "184/184 [==============================] - 1s 3ms/step - loss: 0.1067 - accuracy: 0.9640 - val_loss: 0.1508 - val_accuracy: 0.9381\n",
      "Epoch 7/25\n",
      "184/184 [==============================] - 1s 3ms/step - loss: 0.1035 - accuracy: 0.9670 - val_loss: 0.1482 - val_accuracy: 0.9375\n",
      "Epoch 8/25\n",
      "184/184 [==============================] - 1s 3ms/step - loss: 0.1027 - accuracy: 0.9677 - val_loss: 0.1484 - val_accuracy: 0.9381\n",
      "Epoch 9/25\n",
      "184/184 [==============================] - 1s 3ms/step - loss: 0.1022 - accuracy: 0.9668 - val_loss: 0.1487 - val_accuracy: 0.9375\n",
      "Epoch 10/25\n",
      "184/184 [==============================] - 1s 3ms/step - loss: 0.1021 - accuracy: 0.9672 - val_loss: 0.1487 - val_accuracy: 0.9375\n",
      "Epoch 11/25\n",
      "184/184 [==============================] - 1s 3ms/step - loss: 0.1021 - accuracy: 0.9670 - val_loss: 0.1487 - val_accuracy: 0.9375\n",
      "Epoch 12/25\n",
      "184/184 [==============================] - 1s 3ms/step - loss: 0.1021 - accuracy: 0.9670 - val_loss: 0.1487 - val_accuracy: 0.9375\n",
      "Epoch 13/25\n",
      "184/184 [==============================] - 1s 3ms/step - loss: 0.1021 - accuracy: 0.9670 - val_loss: 0.1487 - val_accuracy: 0.9375\n",
      "Epoch 14/25\n",
      "184/184 [==============================] - 1s 3ms/step - loss: 0.1021 - accuracy: 0.9670 - val_loss: 0.1487 - val_accuracy: 0.9375\n",
      "Epoch 15/25\n",
      "184/184 [==============================] - 1s 3ms/step - loss: 0.1021 - accuracy: 0.9670 - val_loss: 0.1487 - val_accuracy: 0.9375\n",
      "Epoch 16/25\n",
      "184/184 [==============================] - 1s 3ms/step - loss: 0.1021 - accuracy: 0.9670 - val_loss: 0.1487 - val_accuracy: 0.9375\n",
      "Epoch 17/25\n",
      "184/184 [==============================] - 1s 3ms/step - loss: 0.1021 - accuracy: 0.9670 - val_loss: 0.1487 - val_accuracy: 0.9375\n",
      "Epoch 18/25\n",
      "184/184 [==============================] - 0s 3ms/step - loss: 0.1021 - accuracy: 0.9670 - val_loss: 0.1487 - val_accuracy: 0.9375\n",
      "Epoch 19/25\n",
      "184/184 [==============================] - 0s 2ms/step - loss: 0.1021 - accuracy: 0.9670 - val_loss: 0.1487 - val_accuracy: 0.9375\n",
      "Epoch 20/25\n",
      "184/184 [==============================] - 0s 2ms/step - loss: 0.1021 - accuracy: 0.9670 - val_loss: 0.1487 - val_accuracy: 0.9375\n",
      "Epoch 21/25\n",
      "184/184 [==============================] - 1s 3ms/step - loss: 0.1021 - accuracy: 0.9670 - val_loss: 0.1487 - val_accuracy: 0.9375\n",
      "Epoch 22/25\n",
      "184/184 [==============================] - 1s 4ms/step - loss: 0.1021 - accuracy: 0.9670 - val_loss: 0.1487 - val_accuracy: 0.9375\n",
      "Epoch 23/25\n",
      "184/184 [==============================] - 1s 3ms/step - loss: 0.1021 - accuracy: 0.9670 - val_loss: 0.1487 - val_accuracy: 0.9375\n",
      "Epoch 24/25\n",
      "184/184 [==============================] - 1s 3ms/step - loss: 0.1021 - accuracy: 0.9670 - val_loss: 0.1487 - val_accuracy: 0.9375\n",
      "Epoch 25/25\n",
      "184/184 [==============================] - 0s 3ms/step - loss: 0.1021 - accuracy: 0.9670 - val_loss: 0.1487 - val_accuracy: 0.9375\n"
     ]
    }
   ],
   "source": [
    "batch_size = 32\n",
    "epochs = 25\n",
    "\n",
    "model.compile(\n",
    "    optimizer='adam',\n",
    "    loss='sparse_categorical_crossentropy',\n",
    "    metrics=['accuracy']\n",
    ")\n",
    "\n",
    "history = model.fit(\n",
    "    X_train,\n",
    "    y_train,\n",
    "    validation_split=0.2,\n",
    "    batch_size=batch_size,\n",
    "    epochs=epochs,\n",
    "    callbacks=[tf.keras.callbacks.ModelCheckpoint('./model.h5', save_best_only=True),\n",
    "        tf.keras.callbacks.ReduceLROnPlateau(\n",
    "            monitor='val_loss',\n",
    "            factor=0.1,\n",
    "            patience=1\n",
    "        )\n",
    "    ]\n",
    ")"
   ]
  },
  {
   "cell_type": "code",
   "execution_count": 17,
   "metadata": {},
   "outputs": [
    {
     "data": {
      "image/png": "[encoded data removed]",
      "text/plain": [
       "<Figure size 360x360 with 1 Axes>"
      ]
     },
     "metadata": {
      "needs_background": "light"
     },
     "output_type": "display_data"
    }
   ],
   "source": [
    "plt.figure(figsize=(5, 5))\n",
    "\n",
    "epochs_range = range(epochs)\n",
    "train_loss = history.history['loss']\n",
    "val_loss = history.history['val_loss']\n",
    "\n",
    "plt.plot(\n",
    "    epochs_range,\n",
    "    train_loss,\n",
    "    label=\"Training Loss\"\n",
    ")\n",
    "\n",
    "plt.plot(\n",
    "    epochs_range,\n",
    "    val_loss,\n",
    "    label=\"Validation Loss\"\n",
    ")\n",
    "\n",
    "plt.xlabel(\"Epoch\")\n",
    "plt.ylabel(\"Loss\")\n",
    "\n",
    "plt.legend()\n",
    "plt.title(\"Loss Over Time\")\n",
    "\n",
    "plt.show()"
   ]
  },
  {
   "cell_type": "code",
   "execution_count": 15,
   "metadata": {},
   "outputs": [
    {
     "name": "stdout",
     "output_type": "stream",
     "text": [
      "93/93 [==============================] - 0s 1ms/step - loss: 0.1936 - accuracy: 0.9267\n"
     ]
    },
    {
     "data": {
      "text/plain": [
       "[0.1936095803976059, 0.9267051219940186]"
      ]
     },
     "execution_count": 15,
     "metadata": {},
     "output_type": "execute_result"
    }
   ],
   "source": [
    "model.load_weights('./model.h5')\n",
    "model.evaluate(X_test, y_test)"
   ]
  },
  {
   "cell_type": "code",
   "execution_count": null,
   "metadata": {},
   "outputs": [],
   "source": []
  },
  {
   "cell_type": "code",
   "execution_count": null,
   "metadata": {},
   "outputs": [],
   "source": []
  }
 ],
 "metadata": {
  "kernelspec": {
   "display_name": "Python 3",
   "language": "python",
   "name": "python3"
  },
  "language_info": {
   "codemirror_mode": {
    "name": "ipython",
    "version": 3
   },
   "file_extension": ".py",
   "mimetype": "text/x-python",
   "name": "python",
   "nbconvert_exporter": "python",
   "pygments_lexer": "ipython3",
   "version": "3.8.5"
  }
 },
 "nbformat": 4,
 "nbformat_minor": 4
}
